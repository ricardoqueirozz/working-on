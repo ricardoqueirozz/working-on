{
 "cells": [
  {
   "cell_type": "code",
   "execution_count": 1,
   "metadata": {},
   "outputs": [],
   "source": [
    "import pandas as pd\n",
    "import matplotlib.pyplot as plt"
   ]
  },
  {
   "cell_type": "code",
   "execution_count": 2,
   "metadata": {},
   "outputs": [
    {
     "name": "stdout",
     "output_type": "stream",
     "text": [
      "/home/ricardo/Repositories/working-on/rem-artigo/test\n",
      "/home/ricardo/Repositories/working-on/rem-artigo/test/4x4\n",
      "            SINR\n",
      "0      10.399600\n",
      "1       0.600229\n",
      "2       0.888607\n",
      "3      -0.299477\n",
      "4      -0.447482\n",
      "...          ...\n",
      "31856   4.232070\n",
      "31857   1.327510\n",
      "31858   6.460460\n",
      "31859   3.686050\n",
      "31860  -8.248140\n",
      "\n",
      "[31861 rows x 1 columns]\n",
      "/home/ricardo/Repositories/working-on/rem-artigo/test\n",
      "/home/ricardo/Repositories/working-on/rem-artigo/test/3.5\n",
      "           SINR\n",
      "0      5.305420\n",
      "1      0.038626\n",
      "2      0.408933\n",
      "3     -1.786360\n",
      "4      0.096253\n",
      "...         ...\n",
      "31856  4.947840\n",
      "31857  1.485880\n",
      "31858  7.560270\n",
      "31859  3.803830\n",
      "31860 -7.797900\n",
      "\n",
      "[31861 rows x 1 columns]\n",
      "/home/ricardo/Repositories/working-on/rem-artigo/test\n",
      "/home/ricardo/Repositories/working-on/rem-artigo/test/24\n",
      "           SINR\n",
      "0      5.599940\n",
      "1     -0.755999\n",
      "2     -0.476873\n",
      "3     -2.193560\n",
      "4      0.547351\n",
      "...         ...\n",
      "31856  3.795830\n",
      "31857  1.472910\n",
      "31858  6.212870\n",
      "31859  3.179790\n",
      "31860 -5.158710\n",
      "\n",
      "[31861 rows x 1 columns]\n"
     ]
    }
   ],
   "source": [
    "opath = \"/home/ricardo/Repositories/working-on/rem-artigo/test/\" \n",
    "%cd $opath\n",
    "opath = \"/home/ricardo/Repositories/working-on/rem-artigo/test/4x4/\" \n",
    "%cd $opath\n",
    "\n",
    "data = pd.read_csv('nr-rem-.out', sep=\"\\t\", header=None)\n",
    "data1 = pd.DataFrame(data)\n",
    "for i in range(0,8):\n",
    "    if i != 4:\n",
    "        data1.drop(i,inplace = True, axis=1)\n",
    "data1.rename(columns={4:\"SINR\"}, inplace = True)\n",
    "\n",
    "print(data1)\n",
    "\n",
    "opath = \"/home/ricardo/Repositories/working-on/rem-artigo/test/\" \n",
    "%cd $opath\n",
    "opath = \"/home/ricardo/Repositories/working-on/rem-artigo/test/3.5/\" \n",
    "%cd $opath\n",
    "\n",
    "data = pd.read_csv('nr-rem-.out', sep=\"\\t\", header=None)\n",
    "data2 = pd.DataFrame(data)\n",
    "for i in range(0,8):\n",
    "    if i != 4:\n",
    "        data2.drop(i,inplace = True, axis=1)\n",
    "data2.rename(columns={4:\"SINR\"}, inplace = True)\n",
    "\n",
    "print(data2)\n",
    "\n",
    "opath = \"/home/ricardo/Repositories/working-on/rem-artigo/test/\" \n",
    "%cd $opath\n",
    "opath = \"/home/ricardo/Repositories/working-on/rem-artigo/test/24/\" \n",
    "%cd $opath\n",
    "\n",
    "data = pd.read_csv('nr-rem-.out', sep=\"\\t\", header=None)\n",
    "data3 = pd.DataFrame(data)\n",
    "for i in range(0,8):\n",
    "    if i != 4:\n",
    "        data3.drop(i,inplace = True, axis=1)\n",
    "data3.rename(columns={4:\"SINR\"}, inplace = True)\n",
    "\n",
    "print(data3)"
   ]
  },
  {
   "cell_type": "code",
   "execution_count": 3,
   "metadata": {},
   "outputs": [
    {
     "name": "stdout",
     "output_type": "stream",
     "text": [
      "30.265842252283353\n",
      "29.76366090204325\n",
      "30.962618875741505\n"
     ]
    }
   ],
   "source": [
    "bg = 0\n",
    "temp=[data1.SINR < 0.960405542954275]\n",
    "for i in range(len(data1)):\n",
    "    if (temp[0][i]):\n",
    "        bg+=1\n",
    "        #data1.drop(i,inplace=True,axis=0)\n",
    "bg2 = 0\n",
    "temp=[data2.SINR < 0.960405542954275]\n",
    "for i in range(len(data2)):\n",
    "    if (temp[0][i]):\n",
    "        bg2+=1\n",
    "        #data2.drop(i,inplace=True,axis=0)\n",
    "bg3 = 0\n",
    "temp=[data3.SINR < 0.960405542954275]\n",
    "for i in range(len(data3)):\n",
    "    if (temp[0][i]):\n",
    "        bg3+=1\n",
    "        #data3.drop(i,inplace=True,axis=0)\n",
    "\n",
    "result1 = (bg/(len(data1)))*100\n",
    "result2 = (bg2/(len(data2)))*100\n",
    "result3 = (bg3/(len(data3)))*100\n",
    "\n",
    "print(result1)\n",
    "print(result2)\n",
    "print(result3)"
   ]
  },
  {
   "cell_type": "code",
   "execution_count": 9,
   "metadata": {},
   "outputs": [
    {
     "data": {
      "text/plain": [
       "<BarContainer object of 4 artists>"
      ]
     },
     "execution_count": 9,
     "metadata": {},
     "output_type": "execute_result"
    },
    {
     "data": {
      "image/png": "[encoded data removed]",
      "text/plain": [
       "<Figure size 1080x432 with 1 Axes>"
      ]
     },
     "metadata": {
      "needs_background": "light"
     },
     "output_type": "display_data"
    }
   ],
   "source": [
    "graphx = [\"4x4\",\"3.5\",\"24\"]\n",
    "graphy = [result1,result2,result3]\n",
    "\n",
    "plt.figure(figsize=(15, 6))\n",
    "plt.rcParams.update({'font.size': 15})\n",
    "plt.title(\"Taxa de Outage\", fontsize=20)\n",
    "plt.xlabel(\"Tipo e Posicionamento das Antenas\", fontsize=20)\n",
    "plt.ylabel(\"Porcentagem\", fontsize=20)\n",
    "plt.ylim([0, 40])\n",
    "\n",
    "plt.bar(graphx,graphy, color = \"maroon\", width = 0.8)"
   ]
  },
  {
   "cell_type": "code",
   "execution_count": null,
   "metadata": {},
   "outputs": [],
   "source": []
  }
 ],
 "metadata": {
  "interpreter": {
   "hash": "d589bc80a6c202c54e5d42be8180e0c37ef0d215e21a00f31cec65d96796d5fc"
  },
  "kernelspec": {
   "display_name": "Python 3",
   "language": "python",
   "name": "python3"
  },
  "language_info": {
   "codemirror_mode": {
    "name": "ipython",
    "version": 3
   },
   "file_extension": ".py",
   "mimetype": "text/x-python",
   "name": "python",
   "nbconvert_exporter": "python",
   "pygments_lexer": "ipython3",
   "version": "3.8.5"
  }
 },
 "nbformat": 4,
 "nbformat_minor": 2
}
