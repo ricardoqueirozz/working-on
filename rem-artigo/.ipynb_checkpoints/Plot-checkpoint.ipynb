{
 "cells": [
  {
   "cell_type": "code",
   "execution_count": 4,
   "metadata": {},
   "outputs": [],
   "source": [
    "import pandas as pd\n",
    "import matplotlib.pyplot as plt"
   ]
  },
  {
   "cell_type": "code",
   "execution_count": 12,
   "metadata": {},
   "outputs": [
    {
     "name": "stdout",
     "output_type": "stream",
     "text": [
      "/home/ricardo/Repositories/working-on/rem-artigo\n",
      "/home/ricardo/Repositories/working-on/rem-artigo/gNBs omnidirecionais em grid\n",
      "          SINR\n",
      "0      4.44809\n",
      "1      5.13564\n",
      "2      5.96976\n",
      "3      9.79855\n",
      "4      1.92363\n",
      "...        ...\n",
      "31856  2.72376\n",
      "31857  1.45859\n",
      "31858  3.53094\n",
      "31859  5.71296\n",
      "31860  4.13622\n",
      "\n",
      "[31861 rows x 1 columns]\n",
      "/home/ricardo/Repositories/working-on/rem-artigo\n",
      "/home/ricardo/Repositories/working-on/rem-artigo/gNBs omnidirecionais em linha\n",
      "           SINR\n",
      "0      1.623570\n",
      "1      4.693210\n",
      "2      3.936230\n",
      "3      8.471130\n",
      "4      0.464844\n",
      "...         ...\n",
      "31856  1.801200\n",
      "31857 -0.522765\n",
      "31858  0.109165\n",
      "31859  3.731200\n",
      "31860  3.262370\n",
      "\n",
      "[31861 rows x 1 columns]\n",
      "/home/ricardo/Repositories/working-on/rem-artigo\n",
      "/home/ricardo/Repositories/working-on/rem-artigo/gNBs trisetorizadas em grid\n",
      "           SINR\n",
      "0      5.599940\n",
      "1     -0.755999\n",
      "2     -0.476873\n",
      "3     -2.193560\n",
      "4      0.547351\n",
      "...         ...\n",
      "31856  3.795830\n",
      "31857  1.472910\n",
      "31858  6.212870\n",
      "31859  3.179790\n",
      "31860 -5.158710\n",
      "\n",
      "[31861 rows x 1 columns]\n",
      "/home/ricardo/Repositories/working-on/rem-artigo\n",
      "/home/ricardo/Repositories/working-on/rem-artigo/gNBs trisetorizadas em linha\n",
      "          SINR\n",
      "0      3.62365\n",
      "1      0.65824\n",
      "2      3.25884\n",
      "3     -3.07915\n",
      "4      3.37329\n",
      "...        ...\n",
      "31856 -2.11481\n",
      "31857 -1.45702\n",
      "31858 -1.22812\n",
      "31859 -5.01411\n",
      "31860  2.03647\n",
      "\n",
      "[31861 rows x 1 columns]\n"
     ]
    }
   ],
   "source": [
    "opath = \"/home/ricardo/Repositories/working-on/rem-artigo/\" \n",
    "%cd $opath\n",
    "opath = \"/home/ricardo/Repositories/working-on/rem-artigo/gNBs omnidirecionais em grid/\" \n",
    "%cd $opath\n",
    "\n",
    "data = pd.read_csv('nr-rem-.out', sep=\"\\t\", header=None)\n",
    "data1 = pd.DataFrame(data)\n",
    "for i in range(0,8):\n",
    "    if i != 4:\n",
    "        data1.drop(i,inplace = True, axis=1)\n",
    "data1.rename(columns={4:\"SINR\"}, inplace = True)\n",
    "\n",
    "#print(data1)\n",
    "\n",
    "opath = \"/home/ricardo/Repositories/working-on/rem-artigo/\" \n",
    "%cd $opath\n",
    "opath = \"/home/ricardo/Repositories/working-on/rem-artigo/gNBs omnidirecionais em linha/\" \n",
    "%cd $opath\n",
    "\n",
    "data = pd.read_csv('nr-rem-.out', sep=\"\\t\", header=None)\n",
    "data2 = pd.DataFrame(data)\n",
    "for i in range(0,8):\n",
    "    if i != 4:\n",
    "        data2.drop(i,inplace = True, axis=1)\n",
    "data2.rename(columns={4:\"SINR\"}, inplace = True)\n",
    "\n",
    "#print(data2)\n",
    "\n",
    "opath = \"/home/ricardo/Repositories/working-on/rem-artigo/\" \n",
    "%cd $opath\n",
    "opath = \"/home/ricardo/Repositories/working-on/rem-artigo/gNBs trisetorizadas em grid/\" \n",
    "%cd $opath\n",
    "\n",
    "data = pd.read_csv('nr-rem-.out', sep=\"\\t\", header=None)\n",
    "data3 = pd.DataFrame(data)\n",
    "for i in range(0,8):\n",
    "    if i != 4:\n",
    "        data3.drop(i,inplace = True, axis=1)\n",
    "data3.rename(columns={4:\"SINR\"}, inplace = True)\n",
    "\n",
    "#print(data3)\n",
    "\n",
    "opath = \"/home/ricardo/Repositories/working-on/rem-artigo/\" \n",
    "%cd $opath\n",
    "opath = \"/home/ricardo/Repositories/working-on/rem-artigo/gNBs trisetorizadas em linha/\" \n",
    "%cd $opath\n",
    "\n",
    "data = pd.read_csv('nr-rem-.out', sep=\"\\t\", header=None)\n",
    "data4 = pd.DataFrame(data)\n",
    "for i in range(0,8):\n",
    "    if i != 4:\n",
    "        data4.drop(i,inplace = True, axis=1)\n",
    "data4.rename(columns={4:\"SINR\"}, inplace = True)\n",
    "\n",
    "#print(data4)"
   ]
  },
  {
   "cell_type": "code",
   "execution_count": 6,
   "metadata": {},
   "outputs": [
    {
     "name": "stdout",
     "output_type": "stream",
     "text": [
      "16.032139606415367\n",
      "37.57885816515489\n",
      "30.962618875741505\n",
      "38.65227080129311\n"
     ]
    }
   ],
   "source": [
    "bg = 0\n",
    "temp=[data1.SINR < 0.960405542954275]\n",
    "for i in range(len(data1)):\n",
    "    if (temp[0][i]):\n",
    "        bg+=1\n",
    "        #data1.drop(i,inplace=True,axis=0)\n",
    "bg2 = 0\n",
    "temp=[data2.SINR < 0.960405542954275]\n",
    "for i in range(len(data2)):\n",
    "    if (temp[0][i]):\n",
    "        bg2+=1\n",
    "        #data2.drop(i,inplace=True,axis=0)\n",
    "bg3 = 0\n",
    "temp=[data3.SINR < 0.960405542954275]\n",
    "for i in range(len(data3)):\n",
    "    if (temp[0][i]):\n",
    "        bg3+=1\n",
    "        #data3.drop(i,inplace=True,axis=0)\n",
    "bg4 = 0\n",
    "temp=[data4.SINR < 0.960405542954275]\n",
    "for i in range(len(data4)):\n",
    "    if (temp[0][i]):\n",
    "        bg4+=1\n",
    "        #data4.drop(i,inplace=True,axis=0)\n",
    "      \n",
    "result1 = (bg/(len(data1)))*100\n",
    "result2 = (bg2/(len(data2)))*100\n",
    "result3 = (bg3/(len(data3)))*100\n",
    "result4 = (bg4/(len(data4)))*100\n",
    "\n",
    "print(result1)\n",
    "print(result2)\n",
    "print(result3)\n",
    "print(result4)"
   ]
  },
  {
   "cell_type": "code",
   "execution_count": 11,
   "metadata": {},
   "outputs": [
    {
     "data": {
      "text/plain": [
       "<BarContainer object of 4 artists>"
      ]
     },
     "execution_count": 11,
     "metadata": {},
     "output_type": "execute_result"
    },
    {
     "data": {
      "image/png": "[encoded data removed]",
      "text/plain": [
       "<Figure size 1080x432 with 1 Axes>"
      ]
     },
     "metadata": {
      "needs_background": "light"
     },
     "output_type": "display_data"
    }
   ],
   "source": [
    "graphx = [\"Omnidirecionais em Grid\",\"Omnidirecionais em Linha\",\"Trisetorizadas em Grid\",\"Trisetorizadas em Linha\"]\n",
    "graphy = [result1,result2,result3,result4]\n",
    "\n",
    "plt.figure(figsize=(15, 6))\n",
    "plt.rcParams.update({'font.size': 15})\n",
    "plt.title(\"Taxa de Outage\", fontsize=20)\n",
    "plt.xlabel(\"Tipo e Posicionamento das Antenas\", fontsize=20)\n",
    "plt.ylabel(\"Porcentagem\", fontsize=20)\n",
    "plt.ylim([0, 40])\n",
    "\n",
    "plt.bar(graphx,graphy, color = \"maroon\", width = 0.8)"
   ]
  },
  {
   "cell_type": "code",
   "execution_count": null,
   "metadata": {},
   "outputs": [],
   "source": []
  }
 ],
 "metadata": {
  "interpreter": {
   "hash": "d589bc80a6c202c54e5d42be8180e0c37ef0d215e21a00f31cec65d96796d5fc"
  },
  "kernelspec": {
   "display_name": "Python 3",
   "language": "python",
   "name": "python3"
  },
  "language_info": {
   "codemirror_mode": {
    "name": "ipython",
    "version": 3
   },
   "file_extension": ".py",
   "mimetype": "text/x-python",
   "name": "python",
   "nbconvert_exporter": "python",
   "pygments_lexer": "ipython3",
   "version": "3.8.5"
  }
 },
 "nbformat": 4,
 "nbformat_minor": 2
}
